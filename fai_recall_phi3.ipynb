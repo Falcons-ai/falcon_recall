{
 "cells": [
  {
   "cell_type": "markdown",
   "metadata": {},
   "source": [
    "<style>\n",
    "    .white {\n",
    "        background-color: #FFFFFF;\n",
    "    }\n",
    "\n",
    "</style>\n",
    "<div class=\"white\">\n",
    "<img src = \"fai_gradient_logo.png\">\n",
    "</div>"
   ]
  },
  {
   "cell_type": "markdown",
   "metadata": {},
   "source": [
    "# Falcons.ai Personal Recall using Microsoft Phi-3-Vision"
   ]
  },
  {
   "cell_type": "markdown",
   "metadata": {},
   "source": [
    "## 1. Prior to running the remainder of this notebook ensure you have the PHI3 model downloaded to a sub directory 'phi3'\n",
    "## 2. After which you can comment or delete the cell"
   ]
  },
  {
   "cell_type": "code",
   "execution_count": null,
   "metadata": {},
   "outputs": [],
   "source": [
    "# # Define the path where you want to save the model and processor\n",
    "# model_id = \"microsoft/Phi-3-vision-128k-instruct\" \n",
    "# model = AutoModelForCausalLM.from_pretrained(model_id, device_map=\"cuda\", trust_remote_code=True, torch_dtype=\"auto\", _attn_implementation='flash_attention_2')\n",
    "# model_save_path = \"./phi3\"\n",
    "# processor_save_path = \"./phi3\"\n",
    "\n",
    "# # Save the model with safe serialization\n",
    "# model.save_pretrained(model_save_path, safe_serialization=False)\n",
    "\n",
    "# # Save the processor\n",
    "# processor.save_pretrained(processor_save_path)"
   ]
  },
  {
   "cell_type": "code",
   "execution_count": null,
   "metadata": {},
   "outputs": [],
   "source": [
    "import os\n",
    "import glob\n",
    "import time\n",
    "import piexif\n",
    "from PIL import ImageGrab\n",
    "screenshot = ImageGrab.grab()\n",
    "import datetime\n",
    "import textwrap\n",
    "import warnings\n",
    "from datetime import datetime\n",
    "from PIL import Image \n",
    "# Suppress all warnings\n",
    "warnings.filterwarnings('ignore')\n",
    "import matplotlib.pyplot as plt\n",
    "import matplotlib.image as mpimg\n",
    "from transformers import AutoProcessor \n",
    "from transformers import AutoModelForCausalLM \n",
    "from IPython.display import display, Markdown, Latex, JSON"
   ]
  },
  {
   "cell_type": "code",
   "execution_count": null,
   "metadata": {},
   "outputs": [],
   "source": [
    "def Image_desc(image_path,prompt='Describe this image in excruciating detail'):\n",
    "    # I have downloaded the model to a sub-directory titled \"phi3\"\n",
    "    model_id = \"./phi3\" \n",
    "    model = AutoModelForCausalLM.from_pretrained(model_id, device_map=\"cuda\", trust_remote_code=True, torch_dtype=\"auto\")\n",
    "    processor = AutoProcessor.from_pretrained(model_id, trust_remote_code=True) \n",
    "    messages = [ \n",
    "        {\"role\": \"user\", \"content\": \"<|image_1|>\\n\"+prompt}, \n",
    "    ] \n",
    "    # I will be using local images\n",
    "    image = Image.open(image_path) \n",
    "    prompt = processor.tokenizer.apply_chat_template(messages, tokenize=False, add_generation_prompt=True)\n",
    "    inputs = processor(prompt, [image], return_tensors=\"pt\").to(\"cuda:0\") \n",
    "    generation_args = { \n",
    "        \"max_new_tokens\": 500, \n",
    "        \"temperature\": 0.0, \n",
    "        \"do_sample\": False, \n",
    "    } \n",
    "    generate_ids = model.generate(**inputs, eos_token_id=processor.tokenizer.eos_token_id, **generation_args) \n",
    "\n",
    "    # remove input tokens \n",
    "    generate_ids = generate_ids[:, inputs['input_ids'].shape[1]:]\n",
    "    response = processor.batch_decode(generate_ids, skip_special_tokens=True, clean_up_tokenization_spaces=False)[0] \n",
    "    ## Commented this out so as not to render each iteration\n",
    "    # plt.imshow(image)\n",
    "    # wrapped_title = \"\\n\".join(textwrap.wrap(response, width=40)) \n",
    "    # plt.title(wrapped_title)\n",
    "    # plt.axis('off')  # Hide the axis for better visualization\n",
    "    # plt.show()\n",
    "    del model\n",
    "    del processor\n",
    "    return response "
   ]
  },
  {
   "cell_type": "markdown",
   "metadata": {},
   "source": [
    "## File Versioning check"
   ]
  },
  {
   "cell_type": "code",
   "execution_count": null,
   "metadata": {},
   "outputs": [],
   "source": [
    "def get_next_versioned_filename(filepath):\n",
    "    if not os.path.exists(filepath):\n",
    "        return filepath\n",
    "\n",
    "    # Split the file into name and extension\n",
    "    dirname, filename = os.path.split(filepath)\n",
    "    basename, ext = os.path.splitext(filename)\n",
    "\n",
    "    # Initialize the version number\n",
    "    version = 1\n",
    "\n",
    "    # Find the next available version number\n",
    "    while True:\n",
    "        versioned_filename = f\"{basename}_v{version}{ext}\"\n",
    "        versioned_filepath = os.path.join(dirname, versioned_filename)\n",
    "        if not os.path.exists(versioned_filepath):\n",
    "            break\n",
    "        version += 1\n",
    "\n",
    "    return versioned_filepath"
   ]
  },
  {
   "cell_type": "markdown",
   "metadata": {},
   "source": [
    "## Save image description to log file"
   ]
  },
  {
   "cell_type": "code",
   "execution_count": null,
   "metadata": {},
   "outputs": [],
   "source": [
    "def save_image_description(image_path, description):\n",
    "    # Get today's date\n",
    "    today = datetime.now().strftime(\"%Y-%m-%d\")\n",
    "    \n",
    "    # Create a log file name based on the current date\n",
    "    log_file_name = f\"log_{today}.txt\"\n",
    "    log_file_path = os.path.join(os.path.dirname(image_path), log_file_name)\n",
    "    \n",
    "    # Get the base name of the image file without extension\n",
    "    base_name = os.path.splitext(os.path.basename(image_path))[0]\n",
    "    \n",
    "    # Prepare the log entry\n",
    "    log_entry = f\"Image: {base_name}\\nDescription: {description}\\n\\n\"\n",
    "    \n",
    "    # Write the log entry to the daily log file\n",
    "    with open(log_file_path, 'a') as log_file:\n",
    "        log_file.write(log_entry)\n"
   ]
  },
  {
   "cell_type": "markdown",
   "metadata": {},
   "source": [
    "## Get last image written"
   ]
  },
  {
   "cell_type": "code",
   "execution_count": null,
   "metadata": {},
   "outputs": [],
   "source": [
    "def get_last_png_written():\n",
    "    # Use glob to find all .png files in the directory\n",
    "    png_files = glob.glob(os.path.join('./recall/', '*.png'))\n",
    "    \n",
    "    if not png_files:\n",
    "        # Return None if no .png files are found\n",
    "        return None\n",
    "\n",
    "    # Get the most recently modified .png file\n",
    "    last_written_png = max(png_files, key=os.path.getmtime)\n",
    "    \n",
    "    return last_written_png"
   ]
  },
  {
   "cell_type": "markdown",
   "metadata": {},
   "source": [
    "## Check image difference"
   ]
  },
  {
   "cell_type": "code",
   "execution_count": null,
   "metadata": {},
   "outputs": [],
   "source": [
    "from PIL import Image, ImageChops\n",
    "\n",
    "def are_images_different(image_path1, image_path2):\n",
    "    \n",
    "    # Open the images\n",
    "    img1 = Image.open(image_path1)\n",
    "    img2 = Image.open(image_path2)\n",
    "    \n",
    "    # Compare the images using ImageChops.difference\n",
    "    diff = ImageChops.difference(img1, img2)\n",
    "    \n",
    "    # If the images are the same, the difference image will have no non-zero pixels\n",
    "    if diff.getbbox():\n",
    "        return True\n",
    "    else:\n",
    "        return False\n"
   ]
  },
  {
   "cell_type": "markdown",
   "metadata": {},
   "source": [
    "## Recall functionality combined"
   ]
  },
  {
   "cell_type": "code",
   "execution_count": null,
   "metadata": {},
   "outputs": [],
   "source": [
    "def run_recall():\n",
    "    # Get the last modified image in the recall directory\n",
    "    prev_img = get_last_png_written()\n",
    "    from PIL import ImageGrab\n",
    "    # Capture the entire screen\n",
    "    screenshot = ImageGrab.grab()\n",
    "    import datetime\n",
    "    now = datetime.datetime.now()\n",
    "    datetime_stamp = now.strftime(\"%Y-%m-%d_%H-%M-%S\")\n",
    "    filename = f\"recall/screenshot_{datetime_stamp}.png\"\n",
    "    new_path = get_next_versioned_filename(filename)\n",
    "    screenshot.save(new_path)\n",
    "    # Check if the last screenshot and the llatest screenshot are differnet\n",
    "    if are_images_different(prev_img, new_path):\n",
    "        # Get image description from PHI3 Vision model\n",
    "        img_desc = Image_desc(new_path)\n",
    "        ## Set exif data\n",
    "        # Define EXIF metadata\n",
    "        img_desc_bytes = img_desc.encode('utf-8')\n",
    "        exif_dict = {\n",
    "            \"0th\": {\n",
    "            },\n",
    "            \"Exif\": {\n",
    "                piexif.ExifIFD.UserComment: img_desc_bytes\n",
    "            }\n",
    "        }\n",
    "        # Convert the dictionary to binary data so that it doess not error\n",
    "        exif_bytes = piexif.dump(exif_dict)\n",
    "        # Write image path and descriptioni to a log file\n",
    "        save_image_description(new_path, img_desc)\n",
    "        targetImage = Image.open(new_path)\n",
    "        targetImage.save(new_path, exif=exif_bytes)\n",
    "        # Close the screenshot\n",
    "        screenshot.close()\n",
    "        #print('Run normal')\n",
    "    else:\n",
    "        # If they are the same nothing has changed and delete the last screenshot to avoid duplicates\n",
    "        os.remove(new_path)\n",
    "    return filename"
   ]
  },
  {
   "cell_type": "code",
   "execution_count": null,
   "metadata": {},
   "outputs": [],
   "source": [
    "#!pip install pillow piexif\n"
   ]
  },
  {
   "cell_type": "markdown",
   "metadata": {},
   "source": [
    "## Start Falcon Recall"
   ]
  },
  {
   "cell_type": "code",
   "execution_count": null,
   "metadata": {},
   "outputs": [],
   "source": [
    "# 1 week = 10080 minutes\n",
    "minutes = 10080\n",
    "for i in range(minutes):\n",
    "    run_recall()\n",
    "    # Take screenshot every 1 minute\n",
    "    time.sleep(30)"
   ]
  },
  {
   "cell_type": "markdown",
   "metadata": {},
   "source": [
    "## Check the progreess by looking in the 'recall' dir.\n",
    "- it will contain a log file for each day.\n",
    "- the images are saved in a datetime format.\n",
    "- The log files can then be accessed however you like. \n",
    "- - Basic ctrl+f\n",
    "- - Loaded into a db\n",
    "- - Embedded into a local Retrieval-Augmented Generation solution\n"
   ]
  },
  {
   "cell_type": "markdown",
   "metadata": {},
   "source": [
    "## Check Image metadata"
   ]
  },
  {
   "cell_type": "code",
   "execution_count": null,
   "metadata": {},
   "outputs": [],
   "source": [
    "\n",
    "# Open the image\n",
    "image_path = \"./recall/<image name>\"\n",
    "image = Image.open(image_path)\n",
    "\n",
    "# Extract EXIF data\n",
    "exif_data = piexif.load(image.info['exif'])\n",
    "\n",
    "# Extract and print the UserComment tag\n",
    "user_comment_tag = piexif.ExifIFD.UserComment\n",
    "\n",
    "if user_comment_tag in exif_data['Exif']:\n",
    "    user_comment = exif_data['Exif'][user_comment_tag]\n",
    "    # Decode the UserComment from bytes to string\n",
    "    user_comment_str = user_comment.decode('utf-8')\n",
    "    print(f\"UserComment: {user_comment_str}\")\n",
    "else:\n",
    "    print(\"UserComment tag not found.\")\n"
   ]
  }
 ],
 "metadata": {
  "kernelspec": {
   "display_name": "phi3",
   "language": "python",
   "name": "phi3"
  },
  "language_info": {
   "codemirror_mode": {
    "name": "ipython",
    "version": 3
   },
   "file_extension": ".py",
   "mimetype": "text/x-python",
   "name": "python",
   "nbconvert_exporter": "python",
   "pygments_lexer": "ipython3",
   "version": "3.12.3"
  }
 },
 "nbformat": 4,
 "nbformat_minor": 2
}
